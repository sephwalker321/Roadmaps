{
 "cells": [
  {
   "cell_type": "code",
   "execution_count": null,
   "id": "93b0a568",
   "metadata": {
    "scrolled": true
   },
   "outputs": [],
   "source": [
    "from roadmaps import load\n",
    "from roadmaps import plots"
   ]
  },
  {
   "attachments": {},
   "cell_type": "markdown",
   "id": "7fa80ddf",
   "metadata": {},
   "source": [
    "### Load in configuration settings"
   ]
  },
  {
   "cell_type": "code",
   "execution_count": null,
   "id": "7f7449fc",
   "metadata": {},
   "outputs": [],
   "source": [
    "config = load.Generate_Config(\n",
    "    place = \"uk\"\n",
    ")"
   ]
  },
  {
   "attachments": {},
   "cell_type": "markdown",
   "id": "28b25732",
   "metadata": {},
   "source": [
    "### Change config settings"
   ]
  },
  {
   "cell_type": "code",
   "execution_count": null,
   "id": "270d990e",
   "metadata": {},
   "outputs": [],
   "source": [
    "config.set_dates(\n",
    "    #date_min=\"2020-01-01\",\n",
    "    #date_max=\"2022-01-01\"\n",
    ")\n",
    "#config.change_dir(road_dir_new=f\"data_personal/histories_personal/histories_{config.place}\")"
   ]
  },
  {
   "attachments": {},
   "cell_type": "markdown",
   "id": "1d706d7e",
   "metadata": {},
   "source": [
    "### Load data"
   ]
  },
  {
   "cell_type": "code",
   "execution_count": null,
   "id": "ea78e667",
   "metadata": {},
   "outputs": [],
   "source": [
    "roads = load.load_in_roads(config)\n",
    "roads"
   ]
  },
  {
   "attachments": {},
   "cell_type": "markdown",
   "id": "55dfd7e4",
   "metadata": {},
   "source": [
    "### Plotting class"
   ]
  },
  {
   "cell_type": "code",
   "execution_count": null,
   "id": "4a2130cf",
   "metadata": {},
   "outputs": [],
   "source": [
    "plots_class = plots.Plots(\n",
    "    config = config,\n",
    ")"
   ]
  },
  {
   "attachments": {},
   "cell_type": "markdown",
   "id": "8e0a38ef",
   "metadata": {},
   "source": [
    "### Summary graphs"
   ]
  },
  {
   "cell_type": "code",
   "execution_count": null,
   "id": "066bc048",
   "metadata": {},
   "outputs": [],
   "source": [
    "%matplotlib inline\n",
    "plots_class.plot_summary_histograms(\n",
    "    roads,\n",
    "    date_min=None,\n",
    "    date_max=None,\n",
    ")"
   ]
  },
  {
   "cell_type": "code",
   "execution_count": null,
   "id": "919d960a",
   "metadata": {},
   "outputs": [],
   "source": [
    "%matplotlib inline\n",
    "plots_class.plot_summary_weekday_histograms(\n",
    "    roads,\n",
    "    date_min=None,\n",
    "    date_max=None,\n",
    ")"
   ]
  },
  {
   "cell_type": "code",
   "execution_count": null,
   "id": "e34a7d1c",
   "metadata": {},
   "outputs": [],
   "source": [
    "%matplotlib inline\n",
    "plots_class.plot_distance(\n",
    "    roads,\n",
    "    date_min=None,\n",
    "    date_max=None,\n",
    ")"
   ]
  },
  {
   "attachments": {},
   "cell_type": "markdown",
   "id": "7b478140",
   "metadata": {},
   "source": [
    "### Roadmap graph"
   ]
  },
  {
   "cell_type": "code",
   "execution_count": null,
   "id": "a5006bf0",
   "metadata": {},
   "outputs": [],
   "source": [
    "%matplotlib inline\n",
    "plots_class.plot_road_map(\n",
    "    roads,\n",
    "    date_min=None,\n",
    "    date_max=None,\n",
    ")"
   ]
  }
 ],
 "metadata": {
  "kernelspec": {
   "display_name": "venv",
   "language": "python",
   "name": "venv"
  },
  "language_info": {
   "codemirror_mode": {
    "name": "ipython",
    "version": 3
   },
   "file_extension": ".py",
   "mimetype": "text/x-python",
   "name": "python",
   "nbconvert_exporter": "python",
   "pygments_lexer": "ipython3",
   "version": "3.10.12"
  }
 },
 "nbformat": 4,
 "nbformat_minor": 5
}
