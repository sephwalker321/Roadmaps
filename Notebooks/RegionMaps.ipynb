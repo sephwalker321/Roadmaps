{
 "cells": [
  {
   "cell_type": "code",
   "execution_count": null,
   "id": "f084c4b7",
   "metadata": {},
   "outputs": [],
   "source": [
    "from roadmaps import load\n",
    "from roadmaps import plots"
   ]
  },
  {
   "attachments": {},
   "cell_type": "markdown",
   "id": "4e5dcfda",
   "metadata": {},
   "source": [
    "### Load in configuration settings"
   ]
  },
  {
   "cell_type": "code",
   "execution_count": null,
   "id": "d08eb29c",
   "metadata": {},
   "outputs": [],
   "source": [
    "config = load.Generate_Config(\n",
    "    place = \"World\"\n",
    ")"
   ]
  },
  {
   "attachments": {},
   "cell_type": "markdown",
   "id": "bf83e1e5",
   "metadata": {},
   "source": [
    "### Change config settings"
   ]
  },
  {
   "cell_type": "code",
   "execution_count": null,
   "id": "3309b2f3",
   "metadata": {},
   "outputs": [],
   "source": [
    "#config.change_dir(places_dir_new=f\"data_personal/places_personal\")"
   ]
  },
  {
   "attachments": {},
   "cell_type": "markdown",
   "id": "766664d8",
   "metadata": {},
   "source": [
    "### Load data"
   ]
  },
  {
   "cell_type": "code",
   "execution_count": null,
   "id": "d83fc0a9",
   "metadata": {},
   "outputs": [],
   "source": [
    "shapefile = load.load_in_shapefile(config)\n",
    "data = load.load_in_places(config)\n",
    "data"
   ]
  },
  {
   "attachments": {},
   "cell_type": "markdown",
   "id": "5d320ff1",
   "metadata": {},
   "source": [
    "### Plotting class"
   ]
  },
  {
   "cell_type": "code",
   "execution_count": null,
   "id": "3602c8a0",
   "metadata": {},
   "outputs": [],
   "source": [
    "plots_class = plots.Plots(\n",
    "    config = config,\n",
    ")"
   ]
  },
  {
   "attachments": {},
   "cell_type": "markdown",
   "id": "fce4df66",
   "metadata": {},
   "source": [
    "### Places map"
   ]
  },
  {
   "cell_type": "code",
   "execution_count": null,
   "id": "2c91720d",
   "metadata": {},
   "outputs": [],
   "source": [
    "%matplotlib inline\n",
    "plots_class.plot_regions_basemap(shapefile, data)"
   ]
  }
 ],
 "metadata": {
  "kernelspec": {
   "display_name": "venv",
   "language": "python",
   "name": "venv"
  },
  "language_info": {
   "codemirror_mode": {
    "name": "ipython",
    "version": 3
   },
   "file_extension": ".py",
   "mimetype": "text/x-python",
   "name": "python",
   "nbconvert_exporter": "python",
   "pygments_lexer": "ipython3",
   "version": "3.10.12"
  }
 },
 "nbformat": 4,
 "nbformat_minor": 5
}
